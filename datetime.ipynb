{
 "cells": [
  {
   "cell_type": "code",
   "execution_count": 1,
   "id": "42577604-24b9-48f4-86ca-09bab4fbaf48",
   "metadata": {},
   "outputs": [
    {
     "name": "stdout",
     "output_type": "stream",
     "text": [
      "2024-06-06 19:44:29.029489\n"
     ]
    }
   ],
   "source": [
    "import datetime\n",
    "\n",
    "x=datetime.datetime.now()\n",
    "print(x)"
   ]
  },
  {
   "cell_type": "code",
   "execution_count": 2,
   "id": "f8969f15-7008-4596-8b3f-bc251db4fcbf",
   "metadata": {},
   "outputs": [
    {
     "name": "stdout",
     "output_type": "stream",
     "text": [
      "2024\n"
     ]
    }
   ],
   "source": [
    "print(x.year)"
   ]
  },
  {
   "cell_type": "code",
   "execution_count": 3,
   "id": "da8d5b1a-1a4e-4607-a4dd-fe4a1650c95a",
   "metadata": {},
   "outputs": [
    {
     "name": "stdout",
     "output_type": "stream",
     "text": [
      "Thu\n"
     ]
    }
   ],
   "source": [
    "print(x.strftime(\"%a\"))"
   ]
  },
  {
   "cell_type": "code",
   "execution_count": 4,
   "id": "df364635-ce1a-4c8c-a826-52478fb1a158",
   "metadata": {},
   "outputs": [
    {
     "name": "stdout",
     "output_type": "stream",
     "text": [
      "2024-05-06 00:00:00\n"
     ]
    }
   ],
   "source": [
    "x = datetime.datetime(2024 , 5, 6)\n",
    "print(x)"
   ]
  },
  {
   "cell_type": "code",
   "execution_count": 5,
   "id": "9298fa0d-313d-430a-9bf4-d4d18ba2b052",
   "metadata": {},
   "outputs": [
    {
     "name": "stdout",
     "output_type": "stream",
     "text": [
      "Sunday\n"
     ]
    }
   ],
   "source": [
    "import datetime \n",
    "\n",
    "x = datetime.datetime(2020 , 6, 7)\n",
    "\n",
    "print(x.strftime(\"%A\"))"
   ]
  },
  {
   "cell_type": "code",
   "execution_count": 6,
   "id": "76191902-1969-4ee8-a1c9-52404517a308",
   "metadata": {},
   "outputs": [
    {
     "name": "stdout",
     "output_type": "stream",
     "text": [
      "1717683579.3431683\n"
     ]
    }
   ],
   "source": [
    "import time\n",
    "ticks = time.time()\n",
    "print(ticks)"
   ]
  },
  {
   "cell_type": "code",
   "execution_count": 8,
   "id": "18fd3cd9-fd1f-48cc-97d6-3ac0e71d5eb4",
   "metadata": {},
   "outputs": [
    {
     "name": "stdout",
     "output_type": "stream",
     "text": [
      "local current time : time.struct_time(tm_year=2024, tm_mon=6, tm_mday=6, tm_hour=19, tm_min=50, tm_sec=50, tm_wday=3, tm_yday=158, tm_isdst=0)\n"
     ]
    }
   ],
   "source": [
    "localtime = time.localtime(time.time())\n",
    "print(\"local current time :\", localtime)"
   ]
  },
  {
   "cell_type": "code",
   "execution_count": 13,
   "id": "c6dc49a3-2881-485a-9071-63c977aee27f",
   "metadata": {},
   "outputs": [
    {
     "data": {
      "text/plain": [
       "datetime.datetime(2020, 5, 16, 0, 0)"
      ]
     },
     "execution_count": 13,
     "metadata": {},
     "output_type": "execute_result"
    }
   ],
   "source": [
    "data1 =datetime.datetime(2020, 5, 10)\n",
    "data2 =datetime.datetime(2024, 6, 6)\n",
    "\n",
    "data1+datetime.timedelta(6)"
   ]
  },
  {
   "cell_type": "code",
   "execution_count": 20,
   "id": "66f88de4-9833-4883-a7c5-24813fc58703",
   "metadata": {},
   "outputs": [
    {
     "name": "stdout",
     "output_type": "stream",
     "text": [
      "     March 2024\n",
      "Mo Tu We Th Fr Sa Su\n",
      "             1  2  3\n",
      " 4  5  6  7  8  9 10\n",
      "11 12 13 14 15 16 17\n",
      "18 19 20 21 22 23 24\n",
      "25 26 27 28 29 30 31\n",
      "\n"
     ]
    }
   ],
   "source": [
    "import calendar\n",
    "\n",
    "cal = calendar.month(2024, 3)\n",
    "print(cal)"
   ]
  },
  {
   "cell_type": "code",
   "execution_count": 23,
   "id": "e488d7c2-2e04-4b45-8428-eb80f7632262",
   "metadata": {},
   "outputs": [
    {
     "data": {
      "text/plain": [
       "True"
      ]
     },
     "execution_count": 23,
     "metadata": {},
     "output_type": "execute_result"
    }
   ],
   "source": [
    "calendar.isleap(2016)"
   ]
  },
  {
   "cell_type": "code",
   "execution_count": 24,
   "id": "a9026568-707a-4948-9799-6faf116fada9",
   "metadata": {},
   "outputs": [
    {
     "data": {
      "text/plain": [
       "3"
      ]
     },
     "execution_count": 24,
     "metadata": {},
     "output_type": "execute_result"
    }
   ],
   "source": [
    "calendar.leapdays(2012, 2024)"
   ]
  },
  {
   "cell_type": "code",
   "execution_count": 25,
   "id": "2681f74e-88e1-4207-8429-c089e83ed781",
   "metadata": {},
   "outputs": [
    {
     "data": {
      "text/plain": [
       "[[0, 0, 0, 1, 2, 3, 4],\n",
       " [5, 6, 7, 8, 9, 10, 11],\n",
       " [12, 13, 14, 15, 16, 17, 18],\n",
       " [19, 20, 21, 22, 23, 24, 25],\n",
       " [26, 27, 28, 29, 30, 31, 0]]"
      ]
     },
     "execution_count": 25,
     "metadata": {},
     "output_type": "execute_result"
    }
   ],
   "source": [
    "calendar.monthcalendar(2019,8)"
   ]
  },
  {
   "cell_type": "code",
   "execution_count": null,
   "id": "ed2445b7-e319-4f95-ba49-16584a441019",
   "metadata": {},
   "outputs": [],
   "source": []
  }
 ],
 "metadata": {
  "kernelspec": {
   "display_name": "Python 3 (ipykernel)",
   "language": "python",
   "name": "python3"
  },
  "language_info": {
   "codemirror_mode": {
    "name": "ipython",
    "version": 3
   },
   "file_extension": ".py",
   "mimetype": "text/x-python",
   "name": "python",
   "nbconvert_exporter": "python",
   "pygments_lexer": "ipython3",
   "version": "3.11.7"
  }
 },
 "nbformat": 4,
 "nbformat_minor": 5
}
